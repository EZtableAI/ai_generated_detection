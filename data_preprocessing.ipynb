{
 "cells": [
  {
   "cell_type": "code",
   "execution_count": 6,
   "metadata": {},
   "outputs": [],
   "source": [
    "import os\n",
    "import subprocess\n",
    "import pandas as pd\n",
    "from tqdm import tqdm\n",
    "from pathlib import Path\n",
    "\n",
    "from sklearn.model_selection import train_test_split\n",
    "from data_preprocessing import get_data_from_kaggle, clean_text"
   ]
  },
  {
   "cell_type": "code",
   "execution_count": 2,
   "metadata": {},
   "outputs": [
    {
     "name": "stdout",
     "output_type": "stream",
     "text": [
      "Warning: Your Kaggle API key is readable by other users on this system! To fix this, you can run 'chmod 600 /Users/wuyuan/.kaggle/kaggle.json'\n",
      "Warning: Looks like you're using an outdated API Version, please consider updating (server 1.6.14 / client 1.6.12)\n",
      "Dataset URL: https://www.kaggle.com/datasets/thedrcat/daigt-proper-train-dataset\n",
      "License(s): MIT\n",
      "Downloading daigt-proper-train-dataset.zip to /Users/wuyuan/Library/Mobile Documents/com~apple~CloudDocs/其他學習/DeepLearning/ai_generated_detection\n"
     ]
    },
    {
     "name": "stderr",
     "output_type": "stream",
     "text": [
      "100%|██████████| 119M/119M [00:40<00:00, 3.08MB/s] \n"
     ]
    },
    {
     "name": "stdout",
     "output_type": "stream",
     "text": [
      "\n",
      "Archive:  daigt-proper-train-dataset.zip\n",
      "  inflating: dataset/train_drcat_01.csv  \n",
      "  inflating: dataset/train_drcat_02.csv  \n",
      "  inflating: dataset/train_drcat_03.csv  \n",
      "  inflating: dataset/train_drcat_04.csv  \n"
     ]
    }
   ],
   "source": [
    "# get text file from kaggle\n",
    "get_data_from_kaggle()"
   ]
  },
  {
   "cell_type": "code",
   "execution_count": 2,
   "metadata": {},
   "outputs": [],
   "source": [
    "# some config\n",
    "folder_path = 'dataset'\n",
    "file_name = \"data\"\n",
    "prefix = Path(folder_path).absolute() / file_name\n",
    "tag = 'text'\n",
    "label = 'label'"
   ]
  },
  {
   "cell_type": "code",
   "execution_count": 3,
   "metadata": {},
   "outputs": [],
   "source": [
    "# load all csv file\n",
    "dataframes = []\n",
    "filename_list = []\n",
    "for filename in os.listdir(folder_path):\n",
    "    if filename.endswith('.csv'):\n",
    "        file_path = os.path.join(folder_path, filename)\n",
    "        # read csv file\n",
    "        df = pd.read_csv(file_path)\n",
    "        dataframes.append(df)\n",
    "        filename_list.append(filename)\n",
    "# concat all df\n",
    "combined_df = pd.concat(dataframes, ignore_index=True)\n",
    "\n",
    "combined_df['cleaned_text'] = combined_df['text'].apply(clean_text)"
   ]
  },
  {
   "cell_type": "code",
   "execution_count": 9,
   "metadata": {},
   "outputs": [],
   "source": [
    "# splite dataset to text & lable\n",
    "X = combined_df['cleaned_text']\n",
    "y = combined_df['label']\n",
    "y = y.astype('int')\n",
    "y = y.astype('str')"
   ]
  },
  {
   "cell_type": "code",
   "execution_count": 14,
   "metadata": {},
   "outputs": [],
   "source": [
    "# train test valid splite\n",
    "X_train, X_test, y_train, y_test = train_test_split(X, y)\n",
    "X_train, X_valid, y_train, y_valid = train_test_split(X_train, y_train)\n",
    "all_x = [X_train, X_test, X_valid]\n",
    "all_y = [y_train, y_test, y_valid]\n",
    "mode = ['train', 'test', 'valid']"
   ]
  },
  {
   "cell_type": "code",
   "execution_count": 20,
   "metadata": {},
   "outputs": [
    {
     "name": "stderr",
     "output_type": "stream",
     "text": [
      " 56%|█████▋    | 50608/89694 [02:21<01:49, 358.22it/s] \n"
     ]
    },
    {
     "ename": "KeyboardInterrupt",
     "evalue": "",
     "output_type": "error",
     "traceback": [
      "\u001b[0;31m---------------------------------------------------------------------------\u001b[0m",
      "\u001b[0;31mKeyboardInterrupt\u001b[0m                         Traceback (most recent call last)",
      "\u001b[0;32m/var/folders/k9/4lm4s_yd2dl9yhpjcj2r47pw0000gn/T/ipykernel_41091/1088611775.py\u001b[0m in \u001b[0;36m<module>\u001b[0;34m\u001b[0m\n\u001b[1;32m      5\u001b[0m     \u001b[0mall_text\u001b[0m \u001b[0;34m=\u001b[0m \u001b[0;34m''\u001b[0m\u001b[0;34m\u001b[0m\u001b[0;34m\u001b[0m\u001b[0m\n\u001b[1;32m      6\u001b[0m     \u001b[0;32mfor\u001b[0m \u001b[0mi\u001b[0m \u001b[0;32min\u001b[0m \u001b[0mtqdm\u001b[0m\u001b[0;34m(\u001b[0m\u001b[0mx\u001b[0m\u001b[0;34m)\u001b[0m\u001b[0;34m:\u001b[0m\u001b[0;34m\u001b[0m\u001b[0;34m\u001b[0m\u001b[0m\n\u001b[0;32m----> 7\u001b[0;31m         \u001b[0mall_text\u001b[0m \u001b[0;34m+=\u001b[0m \u001b[0;34mf'{i}\\n'\u001b[0m\u001b[0;34m\u001b[0m\u001b[0;34m\u001b[0m\u001b[0m\n\u001b[0m\u001b[1;32m      8\u001b[0m     \u001b[0;32mwith\u001b[0m \u001b[0mopen\u001b[0m\u001b[0;34m(\u001b[0m\u001b[0mtxt_file\u001b[0m\u001b[0;34m,\u001b[0m \u001b[0;34m'w'\u001b[0m\u001b[0;34m)\u001b[0m \u001b[0;32mas\u001b[0m \u001b[0mtxtfile\u001b[0m\u001b[0;34m:\u001b[0m\u001b[0;34m\u001b[0m\u001b[0;34m\u001b[0m\u001b[0m\n\u001b[1;32m      9\u001b[0m         \u001b[0mtxtfile\u001b[0m\u001b[0;34m.\u001b[0m\u001b[0mwrite\u001b[0m\u001b[0;34m(\u001b[0m\u001b[0mall_text\u001b[0m\u001b[0;34m)\u001b[0m\u001b[0;34m\u001b[0m\u001b[0;34m\u001b[0m\u001b[0m\n",
      "\u001b[0;31mKeyboardInterrupt\u001b[0m: "
     ]
    }
   ],
   "source": [
    "for x, y, mode in zip(all_x, all_y, mode):\n",
    "    txt_file = f'{prefix}_{mode}_content.txt'\n",
    "    label_file = f'{prefix}_{mode}_label.txt'\n",
    "\n",
    "    all_text = ''\n",
    "    for i in tqdm(x):\n",
    "        all_text += f'{i}\\n'\n",
    "    with open(txt_file, 'w') as txtfile:\n",
    "        txtfile.write(all_text)\n",
    "    \n",
    "    all_lable = ''\n",
    "    for i in tqdm(y):\n",
    "        all_lable += f'{i}\\n'\n",
    "    with open(label_file, 'w') as labelfile:\n",
    "        labelfile.write(all_lable)"
   ]
  },
  {
   "cell_type": "code",
   "execution_count": null,
   "metadata": {},
   "outputs": [],
   "source": [
    "# Load all text to txt\n",
    "csv_file = f'{prefix}_{tag}.csv'\n",
    "txt_file = f'{prefix}_{tag}.txt'\n",
    "\n",
    "df = pd.read_csv(csv_file)\n",
    "all_text = ''\n",
    "for i in tqdm(df[list(df.columns)[1]]):\n",
    "    all_text += f'{i}\\n'\n",
    "with open(txt_file, 'w') as txtfile:\n",
    "  txtfile.write(all_text)\n",
    "\n",
    "# Load all lable to txt\n",
    "csv_file = f'{prefix}_{label}.csv'\n",
    "txt_file = f'{prefix}_{label}.txt'\n",
    "\n",
    "df = pd.read_csv(csv_file)\n",
    "all_lable = ''\n",
    "for i in tqdm(df[list(df.columns)[1]]):\n",
    "    all_lable += f'{i}\\n'\n",
    "with open(txt_file, 'w') as txtfile:"
   ]
  },
  {
   "cell_type": "code",
   "execution_count": null,
   "metadata": {},
   "outputs": [],
   "source": []
  },
  {
   "cell_type": "code",
   "execution_count": 22,
   "metadata": {},
   "outputs": [],
   "source": [
    "final_df = combined_df.groupby('label').apply(lambda x: x.sample(n=10000, random_state=1)).reset_index(drop=True)\n"
   ]
  },
  {
   "cell_type": "code",
   "execution_count": 23,
   "metadata": {},
   "outputs": [
    {
     "data": {
      "text/html": [
       "<div>\n",
       "<style scoped>\n",
       "    .dataframe tbody tr th:only-of-type {\n",
       "        vertical-align: middle;\n",
       "    }\n",
       "\n",
       "    .dataframe tbody tr th {\n",
       "        vertical-align: top;\n",
       "    }\n",
       "\n",
       "    .dataframe thead th {\n",
       "        text-align: right;\n",
       "    }\n",
       "</style>\n",
       "<table border=\"1\" class=\"dataframe\">\n",
       "  <thead>\n",
       "    <tr style=\"text-align: right;\">\n",
       "      <th></th>\n",
       "      <th>essay_id</th>\n",
       "      <th>text</th>\n",
       "      <th>label</th>\n",
       "      <th>source</th>\n",
       "      <th>prompt</th>\n",
       "      <th>fold</th>\n",
       "      <th>cleaned_text</th>\n",
       "    </tr>\n",
       "  </thead>\n",
       "  <tbody>\n",
       "    <tr>\n",
       "      <th>0</th>\n",
       "      <td>NaN</td>\n",
       "      <td>I would not suguest self-driving cars. What if...</td>\n",
       "      <td>0</td>\n",
       "      <td>persuade_corpus</td>\n",
       "      <td>NaN</td>\n",
       "      <td>0</td>\n",
       "      <td>I would not suguest self-driving cars. What if...</td>\n",
       "    </tr>\n",
       "    <tr>\n",
       "      <th>1</th>\n",
       "      <td>NaN</td>\n",
       "      <td>You and I both know very well that we love to ...</td>\n",
       "      <td>0</td>\n",
       "      <td>persuade_corpus</td>\n",
       "      <td>NaN</td>\n",
       "      <td>4</td>\n",
       "      <td>You and I both know very well that we love to ...</td>\n",
       "    </tr>\n",
       "    <tr>\n",
       "      <th>2</th>\n",
       "      <td>CFC85AA6EB00</td>\n",
       "      <td>The creation of the Facial Action Coding Syste...</td>\n",
       "      <td>0</td>\n",
       "      <td>persuade_corpus</td>\n",
       "      <td>NaN</td>\n",
       "      <td>4</td>\n",
       "      <td>The creation of the Facial Action Coding Syste...</td>\n",
       "    </tr>\n",
       "    <tr>\n",
       "      <th>3</th>\n",
       "      <td>8DCC1AC9A8EA</td>\n",
       "      <td>World is change every second. Each year grow t...</td>\n",
       "      <td>0</td>\n",
       "      <td>original_moth</td>\n",
       "      <td>Task: Explore how people try to be successful ...</td>\n",
       "      <td>4</td>\n",
       "      <td>World is change every second. Each year grow t...</td>\n",
       "    </tr>\n",
       "    <tr>\n",
       "      <th>4</th>\n",
       "      <td>NaN</td>\n",
       "      <td>Should or Shouldn't drivers use devices while ...</td>\n",
       "      <td>0</td>\n",
       "      <td>persuade_corpus</td>\n",
       "      <td>NaN</td>\n",
       "      <td>0</td>\n",
       "      <td>Should or Shouldn't drivers use devices while ...</td>\n",
       "    </tr>\n",
       "    <tr>\n",
       "      <th>...</th>\n",
       "      <td>...</td>\n",
       "      <td>...</td>\n",
       "      <td>...</td>\n",
       "      <td>...</td>\n",
       "      <td>...</td>\n",
       "      <td>...</td>\n",
       "      <td>...</td>\n",
       "    </tr>\n",
       "    <tr>\n",
       "      <th>19995</th>\n",
       "      <td>69241D10E69A</td>\n",
       "      <td>Online school has been a hot topic among educa...</td>\n",
       "      <td>1</td>\n",
       "      <td>llama2_chat</td>\n",
       "      <td>Task: \\n\\n- Analyze the impact of online schoo...</td>\n",
       "      <td>9</td>\n",
       "      <td>Online school has been a hot topic among educa...</td>\n",
       "    </tr>\n",
       "    <tr>\n",
       "      <th>19996</th>\n",
       "      <td>NaN</td>\n",
       "      <td>Hey, so for this essay, I had to research how ...</td>\n",
       "      <td>1</td>\n",
       "      <td>llama2_chat</td>\n",
       "      <td>NaN</td>\n",
       "      <td>1</td>\n",
       "      <td>Hey, so for this essay, I had to research how ...</td>\n",
       "    </tr>\n",
       "    <tr>\n",
       "      <th>19997</th>\n",
       "      <td>E8C3FA5907B0</td>\n",
       "      <td>Dear Principal,\\n\\nI believe it is unjust for...</td>\n",
       "      <td>1</td>\n",
       "      <td>mistral7binstruct_v2</td>\n",
       "      <td>\\nTask: \\nWrite a persuasive essay to the scho...</td>\n",
       "      <td>2</td>\n",
       "      <td>Dear Principal,  I believe it is unjust for y...</td>\n",
       "    </tr>\n",
       "    <tr>\n",
       "      <th>19998</th>\n",
       "      <td>985FC4A0FAE2</td>\n",
       "      <td>Excerpt: Online classes have become increasing...</td>\n",
       "      <td>1</td>\n",
       "      <td>chat_gpt_moth</td>\n",
       "      <td>Task: Consider the benefits of being able to t...</td>\n",
       "      <td>4</td>\n",
       "      <td>Excerpt: Online classes have become increasing...</td>\n",
       "    </tr>\n",
       "    <tr>\n",
       "      <th>19999</th>\n",
       "      <td>EEE6067CF9B5</td>\n",
       "      <td>Some schools have after-school programs that ...</td>\n",
       "      <td>1</td>\n",
       "      <td>mistral7binstruct_v2</td>\n",
       "      <td>\\nTask: \\n\\nInvestigate the benefits of after-...</td>\n",
       "      <td>1</td>\n",
       "      <td>Some schools have after-school programs that ...</td>\n",
       "    </tr>\n",
       "  </tbody>\n",
       "</table>\n",
       "<p>20000 rows × 7 columns</p>\n",
       "</div>"
      ],
      "text/plain": [
       "           essay_id                                               text  label  \\\n",
       "0               NaN  I would not suguest self-driving cars. What if...      0   \n",
       "1               NaN  You and I both know very well that we love to ...      0   \n",
       "2      CFC85AA6EB00  The creation of the Facial Action Coding Syste...      0   \n",
       "3      8DCC1AC9A8EA  World is change every second. Each year grow t...      0   \n",
       "4               NaN  Should or Shouldn't drivers use devices while ...      0   \n",
       "...             ...                                                ...    ...   \n",
       "19995  69241D10E69A  Online school has been a hot topic among educa...      1   \n",
       "19996           NaN  Hey, so for this essay, I had to research how ...      1   \n",
       "19997  E8C3FA5907B0   Dear Principal,\\n\\nI believe it is unjust for...      1   \n",
       "19998  985FC4A0FAE2  Excerpt: Online classes have become increasing...      1   \n",
       "19999  EEE6067CF9B5   Some schools have after-school programs that ...      1   \n",
       "\n",
       "                     source  \\\n",
       "0           persuade_corpus   \n",
       "1           persuade_corpus   \n",
       "2           persuade_corpus   \n",
       "3             original_moth   \n",
       "4           persuade_corpus   \n",
       "...                     ...   \n",
       "19995           llama2_chat   \n",
       "19996           llama2_chat   \n",
       "19997  mistral7binstruct_v2   \n",
       "19998         chat_gpt_moth   \n",
       "19999  mistral7binstruct_v2   \n",
       "\n",
       "                                                  prompt  fold  \\\n",
       "0                                                    NaN     0   \n",
       "1                                                    NaN     4   \n",
       "2                                                    NaN     4   \n",
       "3      Task: Explore how people try to be successful ...     4   \n",
       "4                                                    NaN     0   \n",
       "...                                                  ...   ...   \n",
       "19995  Task: \\n\\n- Analyze the impact of online schoo...     9   \n",
       "19996                                                NaN     1   \n",
       "19997  \\nTask: \\nWrite a persuasive essay to the scho...     2   \n",
       "19998  Task: Consider the benefits of being able to t...     4   \n",
       "19999  \\nTask: \\n\\nInvestigate the benefits of after-...     1   \n",
       "\n",
       "                                            cleaned_text  \n",
       "0      I would not suguest self-driving cars. What if...  \n",
       "1      You and I both know very well that we love to ...  \n",
       "2      The creation of the Facial Action Coding Syste...  \n",
       "3      World is change every second. Each year grow t...  \n",
       "4      Should or Shouldn't drivers use devices while ...  \n",
       "...                                                  ...  \n",
       "19995  Online school has been a hot topic among educa...  \n",
       "19996  Hey, so for this essay, I had to research how ...  \n",
       "19997   Dear Principal,  I believe it is unjust for y...  \n",
       "19998  Excerpt: Online classes have become increasing...  \n",
       "19999   Some schools have after-school programs that ...  \n",
       "\n",
       "[20000 rows x 7 columns]"
      ]
     },
     "execution_count": 23,
     "metadata": {},
     "output_type": "execute_result"
    }
   ],
   "source": [
    "final_df"
   ]
  },
  {
   "cell_type": "code",
   "execution_count": null,
   "metadata": {},
   "outputs": [],
   "source": []
  }
 ],
 "metadata": {
  "kernelspec": {
   "display_name": "base",
   "language": "python",
   "name": "python3"
  },
  "language_info": {
   "codemirror_mode": {
    "name": "ipython",
    "version": 3
   },
   "file_extension": ".py",
   "mimetype": "text/x-python",
   "name": "python",
   "nbconvert_exporter": "python",
   "pygments_lexer": "ipython3",
   "version": "3.9.13"
  }
 },
 "nbformat": 4,
 "nbformat_minor": 2
}
